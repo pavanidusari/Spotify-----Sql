{
 "cells": [
  {
   "cell_type": "markdown",
   "id": "f678de42",
   "metadata": {},
   "source": [
    "<img src=\"https://upload.wikimedia.org/wikipedia/commons/thumb/1/19/Spotify_logo_without_text.svg/2048px-Spotify_logo_without_text.svg.png\" width=70 height=90>\n",
    "\n",
    "# `Spotify` : Case Study\n",
    "\n",
    "Operations team at spotify has requested a report to see the below queries on a regular basis, goal is to build the said queries and setup a reporting process.\n",
    "\n",
    "### Questions:\n",
    "1. Total no of active users each day\n",
    "\n",
    "\n",
    "2. Total no. of active users each week\n",
    "\n",
    "\n",
    "3. No. of users who made a purchase on the same day of installing the app\n",
    "\n",
    "\n",
    "4. Distribution of users in India, USA and all other countries\n",
    "\n",
    "\n",
    "5. Users who made a purchase on the next day of installing the app\n",
    "\n",
    "\n",
    "6. Total users per day who installed on that day and purchased on next"
   ]
  },
  {
   "cell_type": "markdown",
   "id": "8ec27abc",
   "metadata": {},
   "source": [
    "----"
   ]
  },
  {
   "cell_type": "markdown",
   "id": "8745feb4",
   "metadata": {},
   "source": [
    "# Import Libraries and establishing connections"
   ]
  },
  {
   "cell_type": "code",
   "execution_count": 49,
   "id": "5a75ecce",
   "metadata": {},
   "outputs": [],
   "source": [
    "import os\n",
    "import pandas as pd\n",
    "import sqlite3 as s3\n",
    "\n",
    "con = s3.connect(\"database.db\")"
   ]
  },
  {
   "cell_type": "code",
   "execution_count": 50,
   "id": "315bd64d",
   "metadata": {},
   "outputs": [],
   "source": [
    "def create_table(query, con=con):\n",
    "    for i in table.split(';'):\n",
    "        con.execute(i.strip())\n",
    "\n",
    "def query(query, con=con):\n",
    "    return pd.read_sql(query, con)\n",
    "\n",
    "def delete_db(db_name):\n",
    "    try:\n",
    "        os.remove(db_name)\n",
    "        os.remove(db_name+'-journal')\n",
    "    except:\n",
    "        pass"
   ]
  },
  {
   "cell_type": "markdown",
   "id": "74ff947e",
   "metadata": {},
   "source": [
    "----"
   ]
  },
  {
   "cell_type": "markdown",
   "id": "480c2da0",
   "metadata": {},
   "source": [
    "# Creating base table"
   ]
  },
  {
   "cell_type": "code",
   "execution_count": 92,
   "id": "ac6b8613",
   "metadata": {},
   "outputs": [],
   "source": [
    "table = \"\"\"\n",
    "drop table if exists activity;\n",
    "CREATE table activity\n",
    "(\n",
    "user_id varchar(20),\n",
    "event_name varchar(20),\n",
    "event_date date,\n",
    "country varchar(20)\n",
    ");\n",
    "delete from activity;\n",
    "insert into activity values (1,'app-installed','2022-01-01','India')\n",
    ",(1,'app-purchase','2022-01-02','India')\n",
    ",(2,'app-installed','2022-01-01','USA')\n",
    ",(3,'app-installed','2022-01-01','USA')\n",
    ",(3,'app-purchase','2022-01-03','USA')\n",
    ",(4,'app-installed','2022-01-03','India')\n",
    ",(4,'app-purchase','2022-01-03','India')\n",
    ",(5,'app-installed','2022-01-03','SL')\n",
    ",(5,'app-purchase','2022-01-03','SL')\n",
    ",(6,'app-installed','2022-01-04','Pakistan')\n",
    ",(6,'app-purchase','2022-01-04','Pakistan');\n",
    "\n",
    "\"\"\"\n",
    "\n",
    "create_table(table)"
   ]
  },
  {
   "cell_type": "markdown",
   "id": "e245cda7",
   "metadata": {},
   "source": [
    "----"
   ]
  },
  {
   "cell_type": "markdown",
   "id": "1ed91ea6",
   "metadata": {},
   "source": [
    "# 1. Find the number of Active users each day"
   ]
  },
  {
   "cell_type": "code",
   "execution_count": 27,
   "id": "a03cb484",
   "metadata": {},
   "outputs": [
    {
     "data": {
      "text/html": [
       "<div>\n",
       "<style scoped>\n",
       "    .dataframe tbody tr th:only-of-type {\n",
       "        vertical-align: middle;\n",
       "    }\n",
       "\n",
       "    .dataframe tbody tr th {\n",
       "        vertical-align: top;\n",
       "    }\n",
       "\n",
       "    .dataframe thead th {\n",
       "        text-align: right;\n",
       "    }\n",
       "</style>\n",
       "<table border=\"1\" class=\"dataframe\">\n",
       "  <thead>\n",
       "    <tr style=\"text-align: right;\">\n",
       "      <th></th>\n",
       "      <th>event_date</th>\n",
       "      <th>user_count</th>\n",
       "    </tr>\n",
       "  </thead>\n",
       "  <tbody>\n",
       "    <tr>\n",
       "      <th>0</th>\n",
       "      <td>2022-01-01</td>\n",
       "      <td>3</td>\n",
       "    </tr>\n",
       "    <tr>\n",
       "      <th>1</th>\n",
       "      <td>2022-01-02</td>\n",
       "      <td>1</td>\n",
       "    </tr>\n",
       "    <tr>\n",
       "      <th>2</th>\n",
       "      <td>2022-01-03</td>\n",
       "      <td>3</td>\n",
       "    </tr>\n",
       "    <tr>\n",
       "      <th>3</th>\n",
       "      <td>2022-01-04</td>\n",
       "      <td>1</td>\n",
       "    </tr>\n",
       "  </tbody>\n",
       "</table>\n",
       "</div>"
      ],
      "text/plain": [
       "   event_date  user_count\n",
       "0  2022-01-01           3\n",
       "1  2022-01-02           1\n",
       "2  2022-01-03           3\n",
       "3  2022-01-04           1"
      ]
     },
     "execution_count": 27,
     "metadata": {},
     "output_type": "execute_result"
    }
   ],
   "source": [
    "q = \"\"\"\n",
    "\n",
    "SELECT \n",
    "    event_date,\n",
    "    COUNT(DISTINCT user_id) AS user_count \n",
    "FROM activity\n",
    "GROUP BY event_date\n",
    "\n",
    "\"\"\"\n",
    "\n",
    "query(q)"
   ]
  },
  {
   "cell_type": "markdown",
   "id": "8f036c4c",
   "metadata": {},
   "source": [
    "----"
   ]
  },
  {
   "cell_type": "markdown",
   "id": "0e06c5a7",
   "metadata": {},
   "source": [
    "# 2. Find the number of Active users each week"
   ]
  },
  {
   "cell_type": "code",
   "execution_count": 28,
   "id": "2e28c797",
   "metadata": {},
   "outputs": [
    {
     "data": {
      "text/html": [
       "<div>\n",
       "<style scoped>\n",
       "    .dataframe tbody tr th:only-of-type {\n",
       "        vertical-align: middle;\n",
       "    }\n",
       "\n",
       "    .dataframe tbody tr th {\n",
       "        vertical-align: top;\n",
       "    }\n",
       "\n",
       "    .dataframe thead th {\n",
       "        text-align: right;\n",
       "    }\n",
       "</style>\n",
       "<table border=\"1\" class=\"dataframe\">\n",
       "  <thead>\n",
       "    <tr style=\"text-align: right;\">\n",
       "      <th></th>\n",
       "      <th>week_number</th>\n",
       "      <th>user_count</th>\n",
       "    </tr>\n",
       "  </thead>\n",
       "  <tbody>\n",
       "    <tr>\n",
       "      <th>0</th>\n",
       "      <td>1</td>\n",
       "      <td>3</td>\n",
       "    </tr>\n",
       "    <tr>\n",
       "      <th>1</th>\n",
       "      <td>2</td>\n",
       "      <td>4</td>\n",
       "    </tr>\n",
       "  </tbody>\n",
       "</table>\n",
       "</div>"
      ],
      "text/plain": [
       "   week_number  user_count\n",
       "0            1           3\n",
       "1            2           4"
      ]
     },
     "execution_count": 28,
     "metadata": {},
     "output_type": "execute_result"
    }
   ],
   "source": [
    "q = \"\"\"\n",
    "SELECT \n",
    "    strftime('%W', event_date)+1 AS week_number,\n",
    "    COUNT(DISTINCT user_id) AS user_count \n",
    "FROM activity\n",
    "GROUP BY strftime('%W', event_date)+1\n",
    "\"\"\"\n",
    "query(q)"
   ]
  },
  {
   "cell_type": "markdown",
   "id": "8e2f168d",
   "metadata": {},
   "source": [
    "----"
   ]
  },
  {
   "cell_type": "markdown",
   "id": "f6fd3633",
   "metadata": {},
   "source": [
    "# 3. Number of users who made the purchase the same day as they installed the app"
   ]
  },
  {
   "cell_type": "code",
   "execution_count": 30,
   "id": "476dfcc7",
   "metadata": {},
   "outputs": [
    {
     "data": {
      "text/html": [
       "<div>\n",
       "<style scoped>\n",
       "    .dataframe tbody tr th:only-of-type {\n",
       "        vertical-align: middle;\n",
       "    }\n",
       "\n",
       "    .dataframe tbody tr th {\n",
       "        vertical-align: top;\n",
       "    }\n",
       "\n",
       "    .dataframe thead th {\n",
       "        text-align: right;\n",
       "    }\n",
       "</style>\n",
       "<table border=\"1\" class=\"dataframe\">\n",
       "  <thead>\n",
       "    <tr style=\"text-align: right;\">\n",
       "      <th></th>\n",
       "      <th>event_date</th>\n",
       "      <th>COUNT(DISTINCT cte.user_id)</th>\n",
       "    </tr>\n",
       "  </thead>\n",
       "  <tbody>\n",
       "    <tr>\n",
       "      <th>0</th>\n",
       "      <td>2022-01-01</td>\n",
       "      <td>0</td>\n",
       "    </tr>\n",
       "    <tr>\n",
       "      <th>1</th>\n",
       "      <td>2022-01-02</td>\n",
       "      <td>0</td>\n",
       "    </tr>\n",
       "    <tr>\n",
       "      <th>2</th>\n",
       "      <td>2022-01-03</td>\n",
       "      <td>2</td>\n",
       "    </tr>\n",
       "    <tr>\n",
       "      <th>3</th>\n",
       "      <td>2022-01-04</td>\n",
       "      <td>1</td>\n",
       "    </tr>\n",
       "  </tbody>\n",
       "</table>\n",
       "</div>"
      ],
      "text/plain": [
       "   event_date  COUNT(DISTINCT cte.user_id)\n",
       "0  2022-01-01                            0\n",
       "1  2022-01-02                            0\n",
       "2  2022-01-03                            2\n",
       "3  2022-01-04                            1"
      ]
     },
     "execution_count": 30,
     "metadata": {},
     "output_type": "execute_result"
    }
   ],
   "source": [
    "q = \"\"\"\n",
    "\n",
    "with cte as(\n",
    "SELECT \n",
    "    user_id,\n",
    "    event_date\n",
    "FROM activity\n",
    "GROUP BY user_id, event_date\n",
    "HAVING COUNT(DISTINCT event_name) = 2)\n",
    "\n",
    "SELECT \n",
    "    a.event_date,\n",
    "    COUNT(DISTINCT cte.user_id)\n",
    "FROM activity a\n",
    "LEFT JOIN cte ON cte.user_id = a.user_id and cte.event_date = a.event_date\n",
    "GROUP BY a.event_date\n",
    "\n",
    "\n",
    "\n",
    "\"\"\"\n",
    "query(q)"
   ]
  },
  {
   "cell_type": "markdown",
   "id": "b1e3a7b8",
   "metadata": {},
   "source": [
    "----"
   ]
  },
  {
   "cell_type": "markdown",
   "id": "b7ba8c2d",
   "metadata": {},
   "source": [
    "# 4. % of users in India and USA, tag the rest of countries as others"
   ]
  },
  {
   "cell_type": "code",
   "execution_count": 40,
   "id": "6679df41",
   "metadata": {},
   "outputs": [
    {
     "data": {
      "text/html": [
       "<div>\n",
       "<style scoped>\n",
       "    .dataframe tbody tr th:only-of-type {\n",
       "        vertical-align: middle;\n",
       "    }\n",
       "\n",
       "    .dataframe tbody tr th {\n",
       "        vertical-align: top;\n",
       "    }\n",
       "\n",
       "    .dataframe thead th {\n",
       "        text-align: right;\n",
       "    }\n",
       "</style>\n",
       "<table border=\"1\" class=\"dataframe\">\n",
       "  <thead>\n",
       "    <tr style=\"text-align: right;\">\n",
       "      <th></th>\n",
       "      <th>country</th>\n",
       "      <th>coverage</th>\n",
       "    </tr>\n",
       "  </thead>\n",
       "  <tbody>\n",
       "    <tr>\n",
       "      <th>0</th>\n",
       "      <td>India</td>\n",
       "      <td>40.0</td>\n",
       "    </tr>\n",
       "    <tr>\n",
       "      <th>1</th>\n",
       "      <td>USA</td>\n",
       "      <td>20.0</td>\n",
       "    </tr>\n",
       "    <tr>\n",
       "      <th>2</th>\n",
       "      <td>others</td>\n",
       "      <td>40.0</td>\n",
       "    </tr>\n",
       "  </tbody>\n",
       "</table>\n",
       "</div>"
      ],
      "text/plain": [
       "  country  coverage\n",
       "0   India      40.0\n",
       "1     USA      20.0\n",
       "2  others      40.0"
      ]
     },
     "execution_count": 40,
     "metadata": {},
     "output_type": "execute_result"
    }
   ],
   "source": [
    "q = \"\"\"\n",
    "\n",
    "with cte as\n",
    "(SELECT \n",
    "    (CASE WHEN country IN (\"India\",\"USA\") THEN country ELSE \"others\" end) AS new_country,\n",
    "    COUNT(user_id) AS users\n",
    "FROM activity\n",
    "WHERE event_name = 'app-purchase'\n",
    "GROUP BY new_country)\n",
    "\n",
    "SELECT \n",
    "    new_country as country, \n",
    "    users*100.0/SUM(users) OVER() as coverage\n",
    "FROM cte\n",
    "\n",
    "\n",
    "\"\"\"\n",
    "query(q)"
   ]
  },
  {
   "cell_type": "markdown",
   "id": "7ff330fb",
   "metadata": {},
   "source": [
    "----"
   ]
  },
  {
   "cell_type": "markdown",
   "id": "23875bb9",
   "metadata": {},
   "source": [
    "# 5. Users who made a purchase on the next day of installing the app"
   ]
  },
  {
   "cell_type": "code",
   "execution_count": 93,
   "id": "c198f891",
   "metadata": {},
   "outputs": [
    {
     "data": {
      "text/html": [
       "<div>\n",
       "<style scoped>\n",
       "    .dataframe tbody tr th:only-of-type {\n",
       "        vertical-align: middle;\n",
       "    }\n",
       "\n",
       "    .dataframe tbody tr th {\n",
       "        vertical-align: top;\n",
       "    }\n",
       "\n",
       "    .dataframe thead th {\n",
       "        text-align: right;\n",
       "    }\n",
       "</style>\n",
       "<table border=\"1\" class=\"dataframe\">\n",
       "  <thead>\n",
       "    <tr style=\"text-align: right;\">\n",
       "      <th></th>\n",
       "      <th>user_id</th>\n",
       "      <th>event_name</th>\n",
       "      <th>event_date</th>\n",
       "      <th>lead_event_name</th>\n",
       "      <th>lead_event_date</th>\n",
       "    </tr>\n",
       "  </thead>\n",
       "  <tbody>\n",
       "    <tr>\n",
       "      <th>0</th>\n",
       "      <td>1</td>\n",
       "      <td>app-installed</td>\n",
       "      <td>2022-01-01</td>\n",
       "      <td>app-purchase</td>\n",
       "      <td>2022-01-02</td>\n",
       "    </tr>\n",
       "  </tbody>\n",
       "</table>\n",
       "</div>"
      ],
      "text/plain": [
       "  user_id     event_name  event_date lead_event_name lead_event_date\n",
       "0       1  app-installed  2022-01-01    app-purchase      2022-01-02"
      ]
     },
     "execution_count": 93,
     "metadata": {},
     "output_type": "execute_result"
    }
   ],
   "source": [
    "q = \"\"\"\n",
    "\n",
    "WITH cte as\n",
    "(SELECT \n",
    "    user_id,\n",
    "    event_name,\n",
    "    event_date,\n",
    "    lead(event_name) over(partition by user_id order by event_name) lead_event_name,\n",
    "    lead(event_date) over(partition by user_id order by event_name) lead_event_date\n",
    "FROM activity)\n",
    "\n",
    "SELECT * FROM CTE \n",
    "WHERE \n",
    "    julianday(lead_event_date) - julianday(event_date) = 1 \n",
    "    AND event_name <> lead_event_name\n",
    "\n",
    "\"\"\"\n",
    "query(q)"
   ]
  },
  {
   "cell_type": "markdown",
   "id": "8fe3dd7f",
   "metadata": {},
   "source": [
    "---"
   ]
  },
  {
   "cell_type": "markdown",
   "id": "bace0d51",
   "metadata": {},
   "source": [
    "# 6. Total users per day who installed on that day and purchased on next"
   ]
  },
  {
   "cell_type": "code",
   "execution_count": 98,
   "id": "f7aea453",
   "metadata": {},
   "outputs": [
    {
     "data": {
      "text/html": [
       "<div>\n",
       "<style scoped>\n",
       "    .dataframe tbody tr th:only-of-type {\n",
       "        vertical-align: middle;\n",
       "    }\n",
       "\n",
       "    .dataframe tbody tr th {\n",
       "        vertical-align: top;\n",
       "    }\n",
       "\n",
       "    .dataframe thead th {\n",
       "        text-align: right;\n",
       "    }\n",
       "</style>\n",
       "<table border=\"1\" class=\"dataframe\">\n",
       "  <thead>\n",
       "    <tr style=\"text-align: right;\">\n",
       "      <th></th>\n",
       "      <th>event_date</th>\n",
       "      <th>cnt</th>\n",
       "    </tr>\n",
       "  </thead>\n",
       "  <tbody>\n",
       "    <tr>\n",
       "      <th>0</th>\n",
       "      <td>2022-01-01</td>\n",
       "      <td>1</td>\n",
       "    </tr>\n",
       "    <tr>\n",
       "      <th>1</th>\n",
       "      <td>2022-01-02</td>\n",
       "      <td>0</td>\n",
       "    </tr>\n",
       "    <tr>\n",
       "      <th>2</th>\n",
       "      <td>2022-01-03</td>\n",
       "      <td>0</td>\n",
       "    </tr>\n",
       "    <tr>\n",
       "      <th>3</th>\n",
       "      <td>2022-01-04</td>\n",
       "      <td>0</td>\n",
       "    </tr>\n",
       "  </tbody>\n",
       "</table>\n",
       "</div>"
      ],
      "text/plain": [
       "   event_date  cnt\n",
       "0  2022-01-01    1\n",
       "1  2022-01-02    0\n",
       "2  2022-01-03    0\n",
       "3  2022-01-04    0"
      ]
     },
     "execution_count": 98,
     "metadata": {},
     "output_type": "execute_result"
    }
   ],
   "source": [
    "q = \"\"\"\n",
    "\n",
    "WITH cte as\n",
    "(SELECT \n",
    "    user_id,\n",
    "    event_name,\n",
    "    event_date,\n",
    "    lead(event_name) over(partition by user_id order by event_name) lead_event_name,\n",
    "    lead(event_date) over(partition by user_id order by event_name) lead_event_date\n",
    "FROM activity),\n",
    "\n",
    "dates as (SELECT distinct event_date FROM activity)\n",
    "\n",
    "SELECT dates.event_date, COUNT(cnt) as cnt FROM dates LEFT JOIN \n",
    "(SELECT event_date, COUNT(event_date) as cnt \n",
    "FROM cte\n",
    "WHERE \n",
    "    julianday(lead_event_date) - julianday(event_date) = 1 \n",
    "    AND event_name <> lead_event_name\n",
    "GROUP BY event_date) agg\n",
    "ON dates.event_date = agg.event_date\n",
    "GROUP BY dates.event_date\n",
    "\"\"\"\n",
    "query(q)"
   ]
  }
 ],
 "metadata": {
  "kernelspec": {
   "display_name": "Python 3 (ipykernel)",
   "language": "python",
   "name": "python3"
  },
  "language_info": {
   "codemirror_mode": {
    "name": "ipython",
    "version": 3
   },
   "file_extension": ".py",
   "mimetype": "text/x-python",
   "name": "python",
   "nbconvert_exporter": "python",
   "pygments_lexer": "ipython3",
   "version": "3.9.12"
  }
 },
 "nbformat": 4,
 "nbformat_minor": 5
}
